{
 "cells": [
  {
   "cell_type": "markdown",
   "metadata": {},
   "source": [
    "# Housing Prices in King County\n",
    "Author: Carlos Garza"
   ]
  },
  {
   "cell_type": "markdown",
   "metadata": {},
   "source": [
    "## Overview\n",
    "This project contains a regression analysis of the cost of King County real estate. Utilizing the CRISP-DM framework, linear regression models, and statistical techniques, I created and refined a model that describes the cost of real estate in King County in relation to a list of independent variables.\n",
    "\n",
    "My data, methodology, and derived conclusions are summarized in the body of this document."
   ]
  },
  {
   "cell_type": "markdown",
   "metadata": {},
   "source": [
    "## Business Problem\n",
    "To gain an edge in the industry, a Seattle-based real estate company wants to automate their initial appraisal process. Developing an algorithm to accurately appraise the value of a house without physically inspecting the property can be an invaluable advantage in the fast paced real estate market of a rapidly expanding city. Using county data and multiple linear regression I created a model the company can use to predict real estate values."
   ]
  },
  {
   "cell_type": "markdown",
   "metadata": {},
   "source": [
    "## Data\n",
    "The data for this project comes from property sales in King County in 2014 and 2015. Each sale has data documented for the house at the time of sale.\n",
    "The data can be found in [kc_house_data.csv](data/kc_house_data.csv) in the data folder, and a description of table columns can be found in [column_names.md](data/column_names.md) in the data folder."
   ]
  },
  {
   "cell_type": "markdown",
   "metadata": {},
   "source": [
    "## Methods\n",
    "This project makes use of multiple linear regression with statsmodels and scikitlearn packages. Additionally, it uses various statistical techniques such as logarithmic transformation and one hot encoding to increase the accuracy of the linear model."
   ]
  },
  {
   "cell_type": "markdown",
   "metadata": {},
   "source": [
    "## Results\n",
    "After data cleaning and multiple reitterations of the model, a final model was created that describes 86% of the variance in the price of real estate in King County."
   ]
  },
  {
   "cell_type": "markdown",
   "metadata": {},
   "source": [
    "## Conclusions\n",
    "The linear model from my notebook can be exported and used in a King County appraisal application.\n",
    "as an example, this repository includes a deployment folder with a [python script](./deployment/house_price_prediction.py) that can be run from a terminal to predict real estate prices.\n",
    "\n",
    "![py_screenshot](./images/py_screenshot.png)"
   ]
  },
  {
   "cell_type": "markdown",
   "metadata": {},
   "source": [
    "### Next Steps\n",
    "+ Create GUI that takes data and delivers a price estimate.\n",
    "+ Explore using multiple models for different locations to achieve higher accuracy\n",
    "+ Modify function to accept an address as an input rather than taking zipcode, latitude, and longitude separately"
   ]
  },
  {
   "cell_type": "markdown",
   "metadata": {},
   "source": [
    "## For More Information\n",
    "For more detailed information, please review my full analysis in [my Jupyter Notebook](./master_analysis.ipynb) or my [presentation](./project_presentation.pdf).\n",
    "\n",
    "For any additional questions, please contact me by email: **carlosjgarza89@gmail.com**"
   ]
  },
  {
   "cell_type": "markdown",
   "metadata": {},
   "source": [
    "## Repository Structure\n",
    "```\n",
    "├── README.md                           <- The top-level README for reviewers of this project\n",
    "├── master_analysis.ipynb               <- Narrative documentation of analysis in Jupyter notebook\n",
    "├── master_analysis.pdf                 <- PDF version of master notebook\n",
    "├── project_presentation.pdf            <- PDF version of project presentation\n",
    "├── data                                <- Both sourced externally and generated from code\n",
    "├── images                              <- Both sourced externally and generated from code\n",
    "├── deployment                          <- Example scripts for a deployment app\n",
    "└── scratch_files                       <- Notebooks used for scratchwork and unorganized processing\n",
    "```"
   ]
  }
 ],
 "metadata": {
  "kernelspec": {
   "display_name": "Python 3",
   "language": "python",
   "name": "python3"
  },
  "language_info": {
   "codemirror_mode": {
    "name": "ipython",
    "version": 3
   },
   "file_extension": ".py",
   "mimetype": "text/x-python",
   "name": "python",
   "nbconvert_exporter": "python",
   "pygments_lexer": "ipython3",
   "version": "3.8.5"
  }
 },
 "nbformat": 4,
 "nbformat_minor": 4
}
